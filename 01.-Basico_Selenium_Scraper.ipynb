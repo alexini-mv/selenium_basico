{
 "cells": [
  {
   "cell_type": "markdown",
   "id": "2bf46067-efb3-4642-869c-26eada492208",
   "metadata": {
    "tags": []
   },
   "source": [
    "# Selenium"
   ]
  },
  {
   "cell_type": "markdown",
   "id": "4309c4f7-1005-48b2-991f-2ada65dbf299",
   "metadata": {},
   "source": [
    "Selenium es una API que nos permite controlar un navegador web, y nos permite interactuar con los sitios como si fueramos usuarios humanos, pero de forma totalmente automatizada. Esto será realmente útil, cuando queremos scrapear sitios web, donde nos pide ejecutar JavaScript para poder mostrar toda la información (**Páginas Dinámicas**)."
   ]
  },
  {
   "cell_type": "markdown",
   "id": "c6e88224-5275-4ddf-9071-ecf82aa1cc1d",
   "metadata": {},
   "source": [
    "## Importamos la libreria de selenium"
   ]
  },
  {
   "cell_type": "code",
   "execution_count": null,
   "id": "04df11ce-40d2-4a4d-aba4-7055e3b7b5d4",
   "metadata": {},
   "outputs": [],
   "source": [
    "from selenium import webdriver\n",
    "from selenium.webdriver.chrome.service import Service as ChromeService\n",
    "from selenium.webdriver.common.by import By\n",
    "from webdriver_manager.chrome import ChromeDriverManager"
   ]
  },
  {
   "cell_type": "markdown",
   "id": "73495ad1-7791-4756-85da-e09f2030c534",
   "metadata": {},
   "source": [
    "### Los pasos que debemos seguir para usarlo como web scraper son:"
   ]
  },
  {
   "cell_type": "markdown",
   "id": "76af4c79-59c3-4465-9bb9-d657f8233556",
   "metadata": {},
   "source": [
    "#### 1.- Instanciamos el ***driver*** para nuestro navegador en particular"
   ]
  },
  {
   "cell_type": "code",
   "execution_count": null,
   "id": "581e81d8-043a-4d71-a8c9-e98d4120916e",
   "metadata": {},
   "outputs": [],
   "source": [
    "service = ChromeService(ChromeDriverManager().install())"
   ]
  },
  {
   "cell_type": "markdown",
   "id": "d043f8f2-0410-4ddd-8bfc-13e20f1e2498",
   "metadata": {},
   "source": [
    "Agregamos algunas opciones al abrir el navegador"
   ]
  },
  {
   "cell_type": "code",
   "execution_count": null,
   "id": "5e0b3a72-15f5-4cf7-b413-28e9f77d0ec5",
   "metadata": {},
   "outputs": [],
   "source": [
    "options = webdriver.ChromeOptions()\n",
    "\n",
    "# Opción para el navegador en Modo Incognito\n",
    "options.add_argument(\"--incognito\")\n",
    "\n",
    "# Opción para no abrir el Graphical User Interface del navegador.\n",
    "#options.add_argument(\"--headless\")"
   ]
  },
  {
   "cell_type": "code",
   "execution_count": null,
   "id": "96a74d47-d851-45d2-9a28-ba86ac66acb4",
   "metadata": {},
   "outputs": [],
   "source": [
    "driver = webdriver.Chrome(service=service, options=options)"
   ]
  },
  {
   "cell_type": "markdown",
   "id": "f9fdab5a-71a4-4b07-92a9-d9db5bdc56c4",
   "metadata": {},
   "source": [
    "#### 2.- Hacemos que el navegador haga la petición a la dirección url de nuestra elección"
   ]
  },
  {
   "cell_type": "code",
   "execution_count": null,
   "id": "823652d2-7699-4745-9d8c-76e1fc721c1b",
   "metadata": {},
   "outputs": [],
   "source": [
    "url = \"https://jkanime.net/amagami-ss/\""
   ]
  },
  {
   "cell_type": "code",
   "execution_count": null,
   "id": "cfac604d-595b-4906-ae68-0269df193a6e",
   "metadata": {},
   "outputs": [],
   "source": [
    "driver.get(url)"
   ]
  },
  {
   "cell_type": "markdown",
   "id": "57f87254-6955-4b1b-a083-847f88738683",
   "metadata": {},
   "source": [
    "#### 3.- Extraemos la información de la página"
   ]
  },
  {
   "cell_type": "markdown",
   "id": "033eb0c1-57dd-46c5-a1f5-9013fe5c7bef",
   "metadata": {},
   "source": [
    "3.1.- Usando expresiones XPath, podemos usar el método `find_elements`, `get_attribute`, `text` para traer los elementos con dicha etiqueta:"
   ]
  },
  {
   "cell_type": "code",
   "execution_count": null,
   "id": "87957b6b-eb1b-45b6-b2c7-3429949867e4",
   "metadata": {},
   "outputs": [],
   "source": [
    "ELEMENTOS = '//div[@id=\"episodes-content\"]//div[@class=\"anime__item\"]/a'"
   ]
  },
  {
   "cell_type": "code",
   "execution_count": null,
   "id": "6703b119-ed15-4b46-a9df-f7d8650692a7",
   "metadata": {},
   "outputs": [],
   "source": [
    "elementos = driver.find_elements(by=By.XPATH, value=ELEMENTOS).get\n",
    "len(elementos)"
   ]
  },
  {
   "cell_type": "code",
   "execution_count": null,
   "id": "92dbbb42-9158-4896-898b-8b85a89719db",
   "metadata": {},
   "outputs": [],
   "source": [
    "capitulo = elementos[0].find_element(by=By.XPATH, value='.//span').text\n",
    "link = elementos[0].get_attribute('href')"
   ]
  },
  {
   "cell_type": "code",
   "execution_count": null,
   "id": "164174ee-8286-4332-861e-b2706e7ca0d4",
   "metadata": {},
   "outputs": [],
   "source": [
    "print(f\"Nombre: {capitulo} \\nLink:  {link}\")"
   ]
  },
  {
   "cell_type": "code",
   "execution_count": null,
   "id": "2b75c699-e3fe-4f9a-8945-05cdad3f9b05",
   "metadata": {},
   "outputs": [],
   "source": [
    "capitulos = []\n",
    "for elemento in elementos:\n",
    "    capitulo = elemento.find_element(by=By.XPATH, value='.//span').text\n",
    "    link = elemento.get_attribute('href')\n",
    "    \n",
    "    capitulos.append({\"Nombre\": capitulo, \"Link\": link})\n",
    "    \n",
    "capitulos"
   ]
  },
  {
   "cell_type": "markdown",
   "id": "a59f7785-126d-4389-bbee-cf4eea8eab80",
   "metadata": {},
   "source": [
    "3.2.- Para obtener información de menús emergentes al click en un botón, necesitamos interactuar y enviar esa acción al driver de la siguiente manera:"
   ]
  },
  {
   "cell_type": "code",
   "execution_count": null,
   "id": "7ce4cdb0-8b74-4037-a2fb-4eb8542e9be2",
   "metadata": {},
   "outputs": [],
   "source": [
    "url_cap= 'https://jkanime.net/amagami-ss/10/'\n",
    "driver = webdriver.Chrome(service=service, options=options)\n",
    "driver.get(url_cap)"
   ]
  },
  {
   "cell_type": "code",
   "execution_count": null,
   "id": "275b0e31-3473-4fa5-bd32-f6e8387eb349",
   "metadata": {},
   "outputs": [],
   "source": [
    "download_video_menu = driver.find_element(by=By.XPATH, value='//a[@class=\"video-download\"]')"
   ]
  },
  {
   "cell_type": "markdown",
   "id": "fa185335-466a-4a32-a12a-61b5c078027f",
   "metadata": {},
   "source": [
    "Desplegamos el menú emergente dando `click` al enlace o botón."
   ]
  },
  {
   "cell_type": "code",
   "execution_count": null,
   "id": "c998f7bf-dc72-4ff4-b6ed-797878d1cafa",
   "metadata": {},
   "outputs": [],
   "source": [
    "download_video_menu.click()"
   ]
  },
  {
   "cell_type": "markdown",
   "id": "e45fd118-724b-493d-8f98-5957a0a2715a",
   "metadata": {},
   "source": [
    "Ahora buscamos dentro del menú emergente para encontrar el enlace de descarga, o en su caso, el botón de descarga."
   ]
  },
  {
   "cell_type": "code",
   "execution_count": null,
   "id": "5e768822-d4ea-430b-a804-72005e365bd4",
   "metadata": {},
   "outputs": [],
   "source": [
    "download_video_boton = driver.find_element(by=By.XPATH, value='//a[@id=\"jkdown\"]')"
   ]
  },
  {
   "cell_type": "code",
   "execution_count": null,
   "id": "0f10f1e5-f94d-4f1c-a7ba-7b243be12c41",
   "metadata": {},
   "outputs": [],
   "source": [
    "download_video_boton.click()"
   ]
  },
  {
   "cell_type": "markdown",
   "id": "9785cc82-730e-4d0d-995a-60afad0d2730",
   "metadata": {},
   "source": [
    "Hay que aclarar que puede generar error, ya que otro elemento entrometido puede capturar el click, un elemento de publicidad.\n",
    "**************"
   ]
  },
  {
   "cell_type": "markdown",
   "id": "084ce553-41b3-4d30-87e4-03936f49605f",
   "metadata": {},
   "source": [
    "Adicional a esto, al ejecutar todo el código en un script, puede suceder que no le demos tiempo al navegador (driver) de cargar todo el contenido de la página. Por lo que nos lanzará errores o no nos traerá la información completo.\n",
    "\n",
    "Para solucionar esto, es necesario agregarle *Demoras inteligentes* que esperen hasta que se alcancé o se lancé alguna señal, para continuar con la ejecución del siguiente código."
   ]
  },
  {
   "cell_type": "code",
   "execution_count": null,
   "id": "f0d85881-af1c-47fa-9eb3-5e56fd236ba5",
   "metadata": {},
   "outputs": [],
   "source": [
    "from selenium.webdriver.support.ui import WebDriverWait\n",
    "from selenium.webdriver.support import expected_conditions as EC\n",
    "from selenium.common.exceptions import TimeoutException"
   ]
  },
  {
   "cell_type": "code",
   "execution_count": null,
   "id": "da3d064a-f762-4c72-a1ce-24fd3a9d2b56",
   "metadata": {},
   "outputs": [],
   "source": [
    "# Tiempo máximo de espera para que la página termine de cargar\n",
    "timeout = 30 \n",
    "\n",
    "# El código XPath del elemento que debe aparecer o debe cargar para que continue la ejecución\n",
    "XPATH_ELEMENT_WAIT = '//' \n",
    "\n",
    "try:\n",
    "    elemento = WebDriverWait(\n",
    "                    driver, \n",
    "                    timeout=timeout\n",
    "                ).until(EC.presence_of_element_located((By.XPATH, XPATH_ELEMENT_WAIT)))\n",
    "    # EC tiene muchos otros métodos para monitorear muchos elementos o acciones que esperará encontrar.\n",
    "except TimeoutException:\n",
    "    print(\"Timeout sobrepasado. La página no terminó de cargar.\")\n",
    "    "
   ]
  },
  {
   "cell_type": "markdown",
   "id": "0197cafb-c8da-43bf-91db-178166936c46",
   "metadata": {},
   "source": [
    "#### 4.- Cerramos el navegador"
   ]
  },
  {
   "cell_type": "code",
   "execution_count": null,
   "id": "6d61ef68-b4a3-4b3c-bc57-627a1004af2d",
   "metadata": {},
   "outputs": [],
   "source": [
    "driver.close()"
   ]
  },
  {
   "cell_type": "markdown",
   "id": "2d00c5b5-e069-454f-b527-1e044e269e5d",
   "metadata": {},
   "source": [
    "### Si quisieramos ejecutarlo en Firefox"
   ]
  },
  {
   "cell_type": "code",
   "execution_count": null,
   "id": "2b15e1c6-72a2-4ae7-81df-4cf1ab18e779",
   "metadata": {},
   "outputs": [],
   "source": [
    "from selenium import webdriver\n",
    "from selenium.webdriver.firefox.service import Service as FirefoxService\n",
    "from webdriver_manager.firefox import GeckoDriverManager"
   ]
  },
  {
   "cell_type": "markdown",
   "id": "daea994c-f775-45be-8cad-a4a9f8000f83",
   "metadata": {},
   "source": [
    "1.- Instacioamos el servicio y el driver especifico para Firefox"
   ]
  },
  {
   "cell_type": "code",
   "execution_count": null,
   "id": "40a611a6-c2fb-4526-9c88-4444b2e52964",
   "metadata": {},
   "outputs": [],
   "source": [
    "service = FirefoxService(GeckoDriverManager().install())\n",
    "driver = webdriver.Firefox(service=service)"
   ]
  },
  {
   "cell_type": "markdown",
   "id": "c1829649-d87e-481d-a822-7fb8883e19c2",
   "metadata": {},
   "source": [
    "2.- Hacemos la consulta de la página web en el driver"
   ]
  },
  {
   "cell_type": "code",
   "execution_count": null,
   "id": "292f5eb6-37e4-4dab-9874-018e7a722fae",
   "metadata": {},
   "outputs": [],
   "source": [
    "driver.get(url)"
   ]
  },
  {
   "cell_type": "markdown",
   "id": "8eb9d2a4-9c85-4e94-8a2b-5167eeacfb99",
   "metadata": {},
   "source": [
    "3.- Extraemos la información"
   ]
  },
  {
   "cell_type": "markdown",
   "id": "b58982f5-12fc-4d48-ba44-6b8c2f00e72b",
   "metadata": {},
   "source": [
    "4.- Cerramos el driver"
   ]
  },
  {
   "cell_type": "code",
   "execution_count": null,
   "id": "c40e43b4-2c76-43b7-a3de-a477c436be82",
   "metadata": {},
   "outputs": [],
   "source": [
    "driver.close()"
   ]
  },
  {
   "cell_type": "code",
   "execution_count": null,
   "id": "22e32620-8bcd-405d-9e11-5541b373df99",
   "metadata": {},
   "outputs": [],
   "source": []
  }
 ],
 "metadata": {
  "kernelspec": {
   "display_name": "Python 3 (ipykernel)",
   "language": "python",
   "name": "python3"
  },
  "language_info": {
   "codemirror_mode": {
    "name": "ipython",
    "version": 3
   },
   "file_extension": ".py",
   "mimetype": "text/x-python",
   "name": "python",
   "nbconvert_exporter": "python",
   "pygments_lexer": "ipython3",
   "version": "3.10.6"
  }
 },
 "nbformat": 4,
 "nbformat_minor": 5
}
